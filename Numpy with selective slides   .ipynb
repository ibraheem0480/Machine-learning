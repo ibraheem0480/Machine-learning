{
 "cells": [
  {
   "cell_type": "markdown",
   "id": "c162633e",
   "metadata": {},
   "source": [
    "## Introduction to Numerical Computing with NumPy"
   ]
  },
  {
   "cell_type": "markdown",
   "id": "d7aa756c",
   "metadata": {},
   "source": [
    "### from page no 12 in slides"
   ]
  },
  {
   "cell_type": "code",
   "execution_count": 104,
   "id": "2c60d6a2",
   "metadata": {},
   "outputs": [],
   "source": [
    "a=[1,2,3,4,5,6]"
   ]
  },
  {
   "cell_type": "code",
   "execution_count": 12,
   "id": "77602a73",
   "metadata": {},
   "outputs": [],
   "source": [
    "b=[7,8,9,10,11,10]"
   ]
  },
  {
   "cell_type": "code",
   "execution_count": 13,
   "id": "a272bd2d",
   "metadata": {},
   "outputs": [
    {
     "data": {
      "text/plain": [
       "[1, 2, 3, 4, 5, 6, 7, 8, 9, 10, 11, 10]"
      ]
     },
     "execution_count": 13,
     "metadata": {},
     "output_type": "execute_result"
    }
   ],
   "source": [
    "a+b"
   ]
  },
  {
   "cell_type": "code",
   "execution_count": 14,
   "id": "f25890f6",
   "metadata": {},
   "outputs": [],
   "source": [
    "result=[]\n",
    "for first ,sec in zip(a, b):\n",
    "    result.append(first + sec)\n",
    "    "
   ]
  },
  {
   "cell_type": "code",
   "execution_count": 15,
   "id": "83bc287a",
   "metadata": {},
   "outputs": [
    {
     "data": {
      "text/plain": [
       "[8, 10, 12, 14, 16, 16]"
      ]
     },
     "execution_count": 15,
     "metadata": {},
     "output_type": "execute_result"
    }
   ],
   "source": [
    "result"
   ]
  },
  {
   "cell_type": "code",
   "execution_count": 16,
   "id": "ddaa6b2d",
   "metadata": {},
   "outputs": [],
   "source": [
    "import numpy as np"
   ]
  },
  {
   "cell_type": "code",
   "execution_count": 20,
   "id": "4e6fe448",
   "metadata": {},
   "outputs": [],
   "source": [
    "a=np.array([0,1,2,3,4,5,6])"
   ]
  },
  {
   "cell_type": "code",
   "execution_count": 21,
   "id": "881c660a",
   "metadata": {},
   "outputs": [
    {
     "data": {
      "text/plain": [
       "numpy.ndarray"
      ]
     },
     "execution_count": 21,
     "metadata": {},
     "output_type": "execute_result"
    }
   ],
   "source": [
    "type(a)"
   ]
  },
  {
   "cell_type": "code",
   "execution_count": 22,
   "id": "71f113f2",
   "metadata": {},
   "outputs": [
    {
     "data": {
      "text/plain": [
       "dtype('int32')"
      ]
     },
     "execution_count": 22,
     "metadata": {},
     "output_type": "execute_result"
    }
   ],
   "source": [
    "a.dtype"
   ]
  },
  {
   "cell_type": "code",
   "execution_count": 46,
   "id": "41ae98de",
   "metadata": {},
   "outputs": [],
   "source": [
    "f= np.array([1,2.2,2.3,4,5,6,7])"
   ]
  },
  {
   "cell_type": "code",
   "execution_count": 47,
   "id": "512be1b5",
   "metadata": {},
   "outputs": [
    {
     "data": {
      "text/plain": [
       "numpy.ndarray"
      ]
     },
     "execution_count": 47,
     "metadata": {},
     "output_type": "execute_result"
    }
   ],
   "source": [
    "type(f)"
   ]
  },
  {
   "cell_type": "code",
   "execution_count": 48,
   "id": "605268ed",
   "metadata": {},
   "outputs": [
    {
     "data": {
      "text/plain": [
       "dtype('float64')"
      ]
     },
     "execution_count": 48,
     "metadata": {},
     "output_type": "execute_result"
    }
   ],
   "source": [
    "f.dtype"
   ]
  },
  {
   "cell_type": "code",
   "execution_count": 49,
   "id": "94d641f2",
   "metadata": {},
   "outputs": [
    {
     "data": {
      "text/plain": [
       "array([1. , 2.2, 2.3, 4. , 5. , 6. , 7. ])"
      ]
     },
     "execution_count": 49,
     "metadata": {},
     "output_type": "execute_result"
    }
   ],
   "source": [
    "f"
   ]
  },
  {
   "cell_type": "code",
   "execution_count": 50,
   "id": "44f10424",
   "metadata": {},
   "outputs": [
    {
     "data": {
      "text/plain": [
       "1.0"
      ]
     },
     "execution_count": 50,
     "metadata": {},
     "output_type": "execute_result"
    }
   ],
   "source": [
    "f[0]"
   ]
  },
  {
   "cell_type": "code",
   "execution_count": 51,
   "id": "3ab92557",
   "metadata": {},
   "outputs": [
    {
     "data": {
      "text/plain": [
       "4.0"
      ]
     },
     "execution_count": 51,
     "metadata": {},
     "output_type": "execute_result"
    }
   ],
   "source": [
    "f[3]"
   ]
  },
  {
   "cell_type": "code",
   "execution_count": 52,
   "id": "2cf523a7",
   "metadata": {},
   "outputs": [],
   "source": [
    "f[0]=10"
   ]
  },
  {
   "cell_type": "code",
   "execution_count": 53,
   "id": "40e60d2d",
   "metadata": {},
   "outputs": [
    {
     "data": {
      "text/plain": [
       "array([10. ,  2.2,  2.3,  4. ,  5. ,  6. ,  7. ])"
      ]
     },
     "execution_count": 53,
     "metadata": {},
     "output_type": "execute_result"
    }
   ],
   "source": [
    "f"
   ]
  },
  {
   "cell_type": "code",
   "execution_count": 54,
   "id": "146c72a6",
   "metadata": {},
   "outputs": [],
   "source": [
    "f[0]=11.5"
   ]
  },
  {
   "cell_type": "code",
   "execution_count": 55,
   "id": "df37e7f1",
   "metadata": {},
   "outputs": [
    {
     "data": {
      "text/plain": [
       "array([11.5,  2.2,  2.3,  4. ,  5. ,  6. ,  7. ])"
      ]
     },
     "execution_count": 55,
     "metadata": {},
     "output_type": "execute_result"
    }
   ],
   "source": [
    "f"
   ]
  },
  {
   "cell_type": "code",
   "execution_count": 56,
   "id": "3d3727a8",
   "metadata": {},
   "outputs": [
    {
     "data": {
      "text/plain": [
       "array([11,  1,  2,  3,  4,  5,  6])"
      ]
     },
     "execution_count": 56,
     "metadata": {},
     "output_type": "execute_result"
    }
   ],
   "source": [
    "a"
   ]
  },
  {
   "cell_type": "code",
   "execution_count": 57,
   "id": "326b9ef5",
   "metadata": {},
   "outputs": [],
   "source": [
    "a[0]=11.5"
   ]
  },
  {
   "cell_type": "code",
   "execution_count": 58,
   "id": "2a2ea73f",
   "metadata": {},
   "outputs": [
    {
     "data": {
      "text/plain": [
       "array([11,  1,  2,  3,  4,  5,  6])"
      ]
     },
     "execution_count": 58,
     "metadata": {},
     "output_type": "execute_result"
    }
   ],
   "source": [
    "a"
   ]
  },
  {
   "cell_type": "code",
   "execution_count": 59,
   "id": "aaf89602",
   "metadata": {},
   "outputs": [
    {
     "data": {
      "text/plain": [
       "1"
      ]
     },
     "execution_count": 59,
     "metadata": {},
     "output_type": "execute_result"
    }
   ],
   "source": [
    "a.ndim #ndim dimension of the array "
   ]
  },
  {
   "cell_type": "code",
   "execution_count": 60,
   "id": "27e7e0bf",
   "metadata": {},
   "outputs": [
    {
     "data": {
      "text/plain": [
       "(7,)"
      ]
     },
     "execution_count": 60,
     "metadata": {},
     "output_type": "execute_result"
    }
   ],
   "source": [
    "a.shape "
   ]
  },
  {
   "cell_type": "code",
   "execution_count": 61,
   "id": "7d1564e2",
   "metadata": {},
   "outputs": [
    {
     "data": {
      "text/plain": [
       "(7,)"
      ]
     },
     "execution_count": 61,
     "metadata": {},
     "output_type": "execute_result"
    }
   ],
   "source": [
    "f.shape # shape is always a tuple "
   ]
  },
  {
   "cell_type": "code",
   "execution_count": 62,
   "id": "017d12c3",
   "metadata": {},
   "outputs": [
    {
     "data": {
      "text/plain": [
       "7"
      ]
     },
     "execution_count": 62,
     "metadata": {},
     "output_type": "execute_result"
    }
   ],
   "source": [
    "a.size"
   ]
  },
  {
   "cell_type": "code",
   "execution_count": 64,
   "id": "5b4938ff",
   "metadata": {},
   "outputs": [
    {
     "data": {
      "text/plain": [
       "array([11,  1,  2,  3,  4,  5,  6])"
      ]
     },
     "execution_count": 64,
     "metadata": {},
     "output_type": "execute_result"
    }
   ],
   "source": [
    "a"
   ]
  },
  {
   "cell_type": "code",
   "execution_count": 65,
   "id": "0e87c456",
   "metadata": {},
   "outputs": [
    {
     "data": {
      "text/plain": [
       "array([11.5,  2.2,  2.3,  4. ,  5. ,  6. ,  7. ])"
      ]
     },
     "execution_count": 65,
     "metadata": {},
     "output_type": "execute_result"
    }
   ],
   "source": [
    "f"
   ]
  },
  {
   "cell_type": "code",
   "execution_count": 63,
   "id": "59a9e6be",
   "metadata": {},
   "outputs": [
    {
     "data": {
      "text/plain": [
       "array([22.5,  3.2,  4.3,  7. ,  9. , 11. , 13. ])"
      ]
     },
     "execution_count": 63,
     "metadata": {},
     "output_type": "execute_result"
    }
   ],
   "source": [
    "a + f #due to vectorizd operation "
   ]
  },
  {
   "cell_type": "code",
   "execution_count": 66,
   "id": "d328d446",
   "metadata": {},
   "outputs": [
    {
     "data": {
      "text/plain": [
       "array([110,  10,  20,  30,  40,  50,  60])"
      ]
     },
     "execution_count": 66,
     "metadata": {},
     "output_type": "execute_result"
    }
   ],
   "source": [
    "a*10"
   ]
  },
  {
   "cell_type": "code",
   "execution_count": 67,
   "id": "8003e346",
   "metadata": {},
   "outputs": [],
   "source": [
    "#universil funtion (ufuncs)"
   ]
  },
  {
   "cell_type": "code",
   "execution_count": 68,
   "id": "6a6d1ebe",
   "metadata": {},
   "outputs": [
    {
     "data": {
      "text/plain": [
       "array([-0.99999021,  0.84147098,  0.90929743,  0.14112001, -0.7568025 ,\n",
       "       -0.95892427, -0.2794155 ])"
      ]
     },
     "execution_count": 68,
     "metadata": {},
     "output_type": "execute_result"
    }
   ],
   "source": [
    "np.sin(a)"
   ]
  },
  {
   "cell_type": "code",
   "execution_count": 69,
   "id": "45ff7da7",
   "metadata": {},
   "outputs": [
    {
     "data": {
      "text/plain": [
       "array([ 0.0044257 ,  0.54030231, -0.41614684, -0.9899925 , -0.65364362,\n",
       "        0.28366219,  0.96017029])"
      ]
     },
     "execution_count": 69,
     "metadata": {},
     "output_type": "execute_result"
    }
   ],
   "source": [
    "np.cos(a)"
   ]
  },
  {
   "cell_type": "code",
   "execution_count": 70,
   "id": "67c9706b",
   "metadata": {},
   "outputs": [],
   "source": [
    "#2 dimension array same concept for 2d 3d 5d ..."
   ]
  },
  {
   "cell_type": "code",
   "execution_count": 93,
   "id": "c5e0e4c3",
   "metadata": {},
   "outputs": [],
   "source": [
    "b=np.array([[0,1,2,3],[5,6,7,8]])"
   ]
  },
  {
   "cell_type": "code",
   "execution_count": 94,
   "id": "dce6f48f",
   "metadata": {},
   "outputs": [
    {
     "data": {
      "text/plain": [
       "array([[0, 1, 2, 3],\n",
       "       [5, 6, 7, 8]])"
      ]
     },
     "execution_count": 94,
     "metadata": {},
     "output_type": "execute_result"
    }
   ],
   "source": [
    "b"
   ]
  },
  {
   "cell_type": "code",
   "execution_count": 95,
   "id": "7d7d64bf",
   "metadata": {},
   "outputs": [
    {
     "data": {
      "text/plain": [
       "dtype('int32')"
      ]
     },
     "execution_count": 95,
     "metadata": {},
     "output_type": "execute_result"
    }
   ],
   "source": [
    "b.dtype"
   ]
  },
  {
   "cell_type": "code",
   "execution_count": 96,
   "id": "1ad54c37",
   "metadata": {},
   "outputs": [
    {
     "data": {
      "text/plain": [
       "(2, 4)"
      ]
     },
     "execution_count": 96,
     "metadata": {},
     "output_type": "execute_result"
    }
   ],
   "source": [
    "b.shape #shape =( row ,columns)"
   ]
  },
  {
   "cell_type": "code",
   "execution_count": 97,
   "id": "5d98164e",
   "metadata": {},
   "outputs": [
    {
     "data": {
      "text/plain": [
       "2"
      ]
     },
     "execution_count": 97,
     "metadata": {},
     "output_type": "execute_result"
    }
   ],
   "source": [
    "b.ndim"
   ]
  },
  {
   "cell_type": "code",
   "execution_count": 98,
   "id": "a2a87ca6",
   "metadata": {},
   "outputs": [
    {
     "data": {
      "text/plain": [
       "array([5, 6, 7, 8])"
      ]
     },
     "execution_count": 98,
     "metadata": {},
     "output_type": "execute_result"
    }
   ],
   "source": [
    "b[1]"
   ]
  },
  {
   "cell_type": "code",
   "execution_count": 99,
   "id": "7f82a861",
   "metadata": {},
   "outputs": [
    {
     "data": {
      "text/plain": [
       "8"
      ]
     },
     "execution_count": 99,
     "metadata": {},
     "output_type": "execute_result"
    }
   ],
   "source": [
    "b[1,3]"
   ]
  },
  {
   "cell_type": "code",
   "execution_count": 100,
   "id": "276eb556",
   "metadata": {},
   "outputs": [],
   "source": [
    "b[1,3]=10"
   ]
  },
  {
   "cell_type": "code",
   "execution_count": 101,
   "id": "0ed5a71a",
   "metadata": {},
   "outputs": [
    {
     "data": {
      "text/plain": [
       "10"
      ]
     },
     "execution_count": 101,
     "metadata": {},
     "output_type": "execute_result"
    }
   ],
   "source": [
    "b[1,3]"
   ]
  },
  {
   "cell_type": "code",
   "execution_count": 102,
   "id": "6cd73a61",
   "metadata": {},
   "outputs": [
    {
     "data": {
      "text/plain": [
       "array([[ 0,  1,  2,  3],\n",
       "       [ 5,  6,  7, 10]])"
      ]
     },
     "execution_count": 102,
     "metadata": {},
     "output_type": "execute_result"
    }
   ],
   "source": [
    "b"
   ]
  },
  {
   "cell_type": "markdown",
   "id": "39f86f29",
   "metadata": {},
   "source": [
    "### slicing"
   ]
  },
  {
   "cell_type": "code",
   "execution_count": 106,
   "id": "536eda1b",
   "metadata": {},
   "outputs": [],
   "source": [
    "h=np.array([11,12,34,44,5])"
   ]
  },
  {
   "cell_type": "code",
   "execution_count": 109,
   "id": "41e794fc",
   "metadata": {},
   "outputs": [
    {
     "data": {
      "text/plain": [
       "array([12, 34])"
      ]
     },
     "execution_count": 109,
     "metadata": {},
     "output_type": "execute_result"
    }
   ],
   "source": [
    "h[1:3]"
   ]
  },
  {
   "cell_type": "code",
   "execution_count": 110,
   "id": "78336b8f",
   "metadata": {},
   "outputs": [
    {
     "data": {
      "text/plain": [
       "array([12, 34])"
      ]
     },
     "execution_count": 110,
     "metadata": {},
     "output_type": "execute_result"
    }
   ],
   "source": [
    "h[-4:3]"
   ]
  },
  {
   "cell_type": "code",
   "execution_count": 111,
   "id": "3d5345f9",
   "metadata": {},
   "outputs": [
    {
     "data": {
      "text/plain": [
       "array([12, 34])"
      ]
     },
     "execution_count": 111,
     "metadata": {},
     "output_type": "execute_result"
    }
   ],
   "source": [
    "h[1:-2]"
   ]
  },
  {
   "cell_type": "code",
   "execution_count": 112,
   "id": "53831a27",
   "metadata": {},
   "outputs": [
    {
     "data": {
      "text/plain": [
       "array([11, 12, 34])"
      ]
     },
     "execution_count": 112,
     "metadata": {},
     "output_type": "execute_result"
    }
   ],
   "source": [
    "h[:3]"
   ]
  },
  {
   "cell_type": "code",
   "execution_count": 113,
   "id": "a0baca47",
   "metadata": {},
   "outputs": [
    {
     "data": {
      "text/plain": [
       "array([12, 34, 44,  5])"
      ]
     },
     "execution_count": 113,
     "metadata": {},
     "output_type": "execute_result"
    }
   ],
   "source": [
    "h[1:]"
   ]
  },
  {
   "cell_type": "code",
   "execution_count": 114,
   "id": "07c8c39a",
   "metadata": {},
   "outputs": [
    {
     "data": {
      "text/plain": [
       "array([11, 34,  5])"
      ]
     },
     "execution_count": 114,
     "metadata": {},
     "output_type": "execute_result"
    }
   ],
   "source": [
    "h[::2]"
   ]
  },
  {
   "cell_type": "code",
   "execution_count": 116,
   "id": "b3ca3d10",
   "metadata": {
    "scrolled": true
   },
   "outputs": [
    {
     "data": {
      "text/plain": [
       "array([34, 44])"
      ]
     },
     "execution_count": 116,
     "metadata": {},
     "output_type": "execute_result"
    }
   ],
   "source": [
    "h[2:4]"
   ]
  },
  {
   "cell_type": "code",
   "execution_count": 117,
   "id": "c4c6158c",
   "metadata": {},
   "outputs": [],
   "source": [
    "c=np.array([[0,1,2,3],[5,6,7,8]])"
   ]
  },
  {
   "cell_type": "code",
   "execution_count": 118,
   "id": "671932f2",
   "metadata": {},
   "outputs": [
    {
     "data": {
      "text/plain": [
       "array([[0, 1, 2, 3],\n",
       "       [5, 6, 7, 8]])"
      ]
     },
     "execution_count": 118,
     "metadata": {},
     "output_type": "execute_result"
    }
   ],
   "source": [
    "c"
   ]
  },
  {
   "cell_type": "code",
   "execution_count": 119,
   "id": "7b805da3",
   "metadata": {},
   "outputs": [
    {
     "data": {
      "text/plain": [
       "array([2, 3])"
      ]
     },
     "execution_count": 119,
     "metadata": {},
     "output_type": "execute_result"
    }
   ],
   "source": [
    "c[0,2:4]"
   ]
  },
  {
   "cell_type": "code",
   "execution_count": 120,
   "id": "4383f0fd",
   "metadata": {},
   "outputs": [
    {
     "data": {
      "text/plain": [
       "array([2, 7])"
      ]
     },
     "execution_count": 120,
     "metadata": {},
     "output_type": "execute_result"
    }
   ],
   "source": [
    "c[:,2]"
   ]
  },
  {
   "cell_type": "code",
   "execution_count": 122,
   "id": "ec40751e",
   "metadata": {},
   "outputs": [],
   "source": [
    "d=np.arange(25).reshape(5,5)"
   ]
  },
  {
   "cell_type": "code",
   "execution_count": 123,
   "id": "68796ebd",
   "metadata": {},
   "outputs": [
    {
     "data": {
      "text/plain": [
       "array([[ 0,  1,  2,  3,  4],\n",
       "       [ 5,  6,  7,  8,  9],\n",
       "       [10, 11, 12, 13, 14],\n",
       "       [15, 16, 17, 18, 19],\n",
       "       [20, 21, 22, 23, 24]])"
      ]
     },
     "execution_count": 123,
     "metadata": {},
     "output_type": "execute_result"
    }
   ],
   "source": [
    "d"
   ]
  },
  {
   "cell_type": "code",
   "execution_count": 124,
   "id": "d5753516",
   "metadata": {},
   "outputs": [
    {
     "data": {
      "text/plain": [
       "array([[ 0,  2,  4],\n",
       "       [ 5,  7,  9],\n",
       "       [10, 12, 14],\n",
       "       [15, 17, 19],\n",
       "       [20, 22, 24]])"
      ]
     },
     "execution_count": 124,
     "metadata": {},
     "output_type": "execute_result"
    }
   ],
   "source": [
    "d[:,::2]"
   ]
  },
  {
   "cell_type": "code",
   "execution_count": 125,
   "id": "01885ae8",
   "metadata": {},
   "outputs": [
    {
     "data": {
      "text/plain": [
       "array([[ 1,  3],\n",
       "       [ 6,  8],\n",
       "       [11, 13],\n",
       "       [16, 18],\n",
       "       [21, 23]])"
      ]
     },
     "execution_count": 125,
     "metadata": {},
     "output_type": "execute_result"
    }
   ],
   "source": [
    "d[:,1::2]"
   ]
  },
  {
   "cell_type": "code",
   "execution_count": 126,
   "id": "1ccd5369",
   "metadata": {},
   "outputs": [
    {
     "data": {
      "text/plain": [
       "array([20, 21, 22, 23, 24])"
      ]
     },
     "execution_count": 126,
     "metadata": {},
     "output_type": "execute_result"
    }
   ],
   "source": [
    "d[4,:]"
   ]
  },
  {
   "cell_type": "code",
   "execution_count": 127,
   "id": "0a387b1b",
   "metadata": {},
   "outputs": [
    {
     "data": {
      "text/plain": [
       "array([20, 21, 22, 23, 24])"
      ]
     },
     "execution_count": 127,
     "metadata": {},
     "output_type": "execute_result"
    }
   ],
   "source": [
    "d[4]"
   ]
  },
  {
   "cell_type": "code",
   "execution_count": 130,
   "id": "a602a1de",
   "metadata": {},
   "outputs": [
    {
     "data": {
      "text/plain": [
       "array([20, 22, 24])"
      ]
     },
     "execution_count": 130,
     "metadata": {},
     "output_type": "execute_result"
    }
   ],
   "source": [
    "d[4,0::2]"
   ]
  },
  {
   "cell_type": "code",
   "execution_count": 131,
   "id": "4de69cca",
   "metadata": {},
   "outputs": [
    {
     "data": {
      "text/plain": [
       "(5, 5)"
      ]
     },
     "execution_count": 131,
     "metadata": {},
     "output_type": "execute_result"
    }
   ],
   "source": [
    "d.shape"
   ]
  },
  {
   "cell_type": "code",
   "execution_count": 137,
   "id": "cac23185",
   "metadata": {},
   "outputs": [
    {
     "data": {
      "text/plain": [
       "array([[ 5,  7],\n",
       "       [15, 17]])"
      ]
     },
     "execution_count": 137,
     "metadata": {},
     "output_type": "execute_result"
    }
   ],
   "source": [
    "d[1::2,0:3:2]"
   ]
  },
  {
   "cell_type": "code",
   "execution_count": 140,
   "id": "e2a6a567",
   "metadata": {},
   "outputs": [
    {
     "data": {
      "text/plain": [
       "array([[ 5,  7],\n",
       "       [15, 17]])"
      ]
     },
     "execution_count": 140,
     "metadata": {},
     "output_type": "execute_result"
    }
   ],
   "source": [
    "d[1::2,:-1:2]"
   ]
  },
  {
   "cell_type": "code",
   "execution_count": 143,
   "id": "d3072d2c",
   "metadata": {},
   "outputs": [],
   "source": [
    "g=np.array([1,2,3,4,5])"
   ]
  },
  {
   "cell_type": "code",
   "execution_count": 144,
   "id": "bd95ed8f",
   "metadata": {},
   "outputs": [],
   "source": [
    "j=g[2:4]"
   ]
  },
  {
   "cell_type": "code",
   "execution_count": 145,
   "id": "dc9f5bb1",
   "metadata": {},
   "outputs": [
    {
     "data": {
      "text/plain": [
       "array([3, 4])"
      ]
     },
     "execution_count": 145,
     "metadata": {},
     "output_type": "execute_result"
    }
   ],
   "source": [
    "j"
   ]
  },
  {
   "cell_type": "code",
   "execution_count": 146,
   "id": "7866c696",
   "metadata": {},
   "outputs": [
    {
     "data": {
      "text/plain": [
       "array([1, 2, 3, 4, 5])"
      ]
     },
     "execution_count": 146,
     "metadata": {},
     "output_type": "execute_result"
    }
   ],
   "source": [
    "g"
   ]
  },
  {
   "cell_type": "code",
   "execution_count": 147,
   "id": "d4883586",
   "metadata": {},
   "outputs": [
    {
     "data": {
      "text/plain": [
       "3"
      ]
     },
     "execution_count": 147,
     "metadata": {},
     "output_type": "execute_result"
    }
   ],
   "source": [
    "j[0]"
   ]
  },
  {
   "cell_type": "code",
   "execution_count": 148,
   "id": "2ec3c1b5",
   "metadata": {},
   "outputs": [],
   "source": [
    "j[0]= -5"
   ]
  },
  {
   "cell_type": "code",
   "execution_count": 149,
   "id": "a224ff7d",
   "metadata": {},
   "outputs": [
    {
     "data": {
      "text/plain": [
       "array([-5,  4])"
      ]
     },
     "execution_count": 149,
     "metadata": {},
     "output_type": "execute_result"
    }
   ],
   "source": [
    "j"
   ]
  },
  {
   "cell_type": "code",
   "execution_count": 150,
   "id": "b7c2cbca",
   "metadata": {},
   "outputs": [
    {
     "data": {
      "text/plain": [
       "array([ 1,  2, -5,  4,  5])"
      ]
     },
     "execution_count": 150,
     "metadata": {},
     "output_type": "execute_result"
    }
   ],
   "source": [
    "g"
   ]
  },
  {
   "cell_type": "code",
   "execution_count": 151,
   "id": "556a2e88",
   "metadata": {},
   "outputs": [],
   "source": [
    "j=g.copy()"
   ]
  },
  {
   "cell_type": "code",
   "execution_count": 152,
   "id": "4e953068",
   "metadata": {},
   "outputs": [
    {
     "data": {
      "text/plain": [
       "array([ 1,  2, -5,  4,  5])"
      ]
     },
     "execution_count": 152,
     "metadata": {},
     "output_type": "execute_result"
    }
   ],
   "source": [
    "j"
   ]
  },
  {
   "cell_type": "code",
   "execution_count": 153,
   "id": "40b41109",
   "metadata": {},
   "outputs": [
    {
     "data": {
      "text/plain": [
       "array([ 1,  2, -5,  4,  5])"
      ]
     },
     "execution_count": 153,
     "metadata": {},
     "output_type": "execute_result"
    }
   ],
   "source": [
    "g"
   ]
  },
  {
   "cell_type": "code",
   "execution_count": 154,
   "id": "e7b9dc8b",
   "metadata": {},
   "outputs": [
    {
     "data": {
      "text/plain": [
       "array([4, 5])"
      ]
     },
     "execution_count": 154,
     "metadata": {},
     "output_type": "execute_result"
    }
   ],
   "source": [
    "g[-2:]"
   ]
  },
  {
   "cell_type": "code",
   "execution_count": 155,
   "id": "80586ad5",
   "metadata": {},
   "outputs": [],
   "source": [
    "g[-2:]=[-4,-3]"
   ]
  },
  {
   "cell_type": "code",
   "execution_count": 156,
   "id": "9303129c",
   "metadata": {},
   "outputs": [
    {
     "data": {
      "text/plain": [
       "array([ 1,  2, -5, -4, -3])"
      ]
     },
     "execution_count": 156,
     "metadata": {},
     "output_type": "execute_result"
    }
   ],
   "source": [
    "g"
   ]
  },
  {
   "cell_type": "code",
   "execution_count": 157,
   "id": "92f66354",
   "metadata": {},
   "outputs": [],
   "source": [
    "g[-2:]=99"
   ]
  },
  {
   "cell_type": "code",
   "execution_count": 158,
   "id": "bd7e478c",
   "metadata": {},
   "outputs": [
    {
     "data": {
      "text/plain": [
       "array([ 1,  2, -5, 99, 99])"
      ]
     },
     "execution_count": 158,
     "metadata": {},
     "output_type": "execute_result"
    }
   ],
   "source": [
    "g"
   ]
  },
  {
   "cell_type": "code",
   "execution_count": 187,
   "id": "108c5e90",
   "metadata": {},
   "outputs": [
    {
     "data": {
      "text/plain": [
       "[0]"
      ]
     },
     "execution_count": 187,
     "metadata": {},
     "output_type": "execute_result"
    }
   ],
   "source": [
    "[0]"
   ]
  },
  {
   "cell_type": "markdown",
   "id": "e5453fab",
   "metadata": {},
   "source": [
    "### fancy indexing"
   ]
  },
  {
   "cell_type": "code",
   "execution_count": 165,
   "id": "f3c76a9a",
   "metadata": {},
   "outputs": [
    {
     "data": {
      "text/plain": [
       "array([1, 2, 3, 4, 5])"
      ]
     },
     "execution_count": 165,
     "metadata": {},
     "output_type": "execute_result"
    }
   ],
   "source": [
    "np.array.__call__([1,2,3,4,5])"
   ]
  },
  {
   "cell_type": "code",
   "execution_count": 170,
   "id": "da732a37",
   "metadata": {},
   "outputs": [],
   "source": [
    "z=np.array([-2,3,-4,6,9])"
   ]
  },
  {
   "cell_type": "code",
   "execution_count": 172,
   "id": "da38eb01",
   "metadata": {},
   "outputs": [
    {
     "data": {
      "text/plain": [
       "array([ True, False,  True, False, False])"
      ]
     },
     "execution_count": 172,
     "metadata": {},
     "output_type": "execute_result"
    }
   ],
   "source": [
    "z<0"
   ]
  },
  {
   "cell_type": "code",
   "execution_count": 179,
   "id": "98d58650",
   "metadata": {},
   "outputs": [],
   "source": [
    "Masks=z<0"
   ]
  },
  {
   "cell_type": "code",
   "execution_count": 180,
   "id": "ec97c3e7",
   "metadata": {},
   "outputs": [],
   "source": [
    "negative = z < 0 "
   ]
  },
  {
   "cell_type": "code",
   "execution_count": 184,
   "id": "fad87d48",
   "metadata": {},
   "outputs": [
    {
     "data": {
      "text/plain": [
       "array([-2, -4])"
      ]
     },
     "execution_count": 184,
     "metadata": {},
     "output_type": "execute_result"
    }
   ],
   "source": [
    "z[negative] "
   ]
  },
  {
   "cell_type": "code",
   "execution_count": 185,
   "id": "b2f1b2f0",
   "metadata": {},
   "outputs": [],
   "source": [
    "z[negative] =0"
   ]
  },
  {
   "cell_type": "code",
   "execution_count": 186,
   "id": "169d2c54",
   "metadata": {},
   "outputs": [
    {
     "data": {
      "text/plain": [
       "array([0, 3, 0, 6, 9])"
      ]
     },
     "execution_count": 186,
     "metadata": {},
     "output_type": "execute_result"
    }
   ],
   "source": [
    "z"
   ]
  },
  {
   "cell_type": "code",
   "execution_count": 188,
   "id": "4304ee6d",
   "metadata": {},
   "outputs": [],
   "source": [
    "# selct element by the number itself"
   ]
  },
  {
   "cell_type": "code",
   "execution_count": 189,
   "id": "791060d7",
   "metadata": {},
   "outputs": [],
   "source": [
    "d=np.arange(25).reshape(5,5)"
   ]
  },
  {
   "cell_type": "code",
   "execution_count": 190,
   "id": "a6167f01",
   "metadata": {},
   "outputs": [
    {
     "data": {
      "text/plain": [
       "array([[ 0,  1,  2,  3,  4],\n",
       "       [ 5,  6,  7,  8,  9],\n",
       "       [10, 11, 12, 13, 14],\n",
       "       [15, 16, 17, 18, 19],\n",
       "       [20, 21, 22, 23, 24]])"
      ]
     },
     "execution_count": 190,
     "metadata": {},
     "output_type": "execute_result"
    }
   ],
   "source": [
    "d"
   ]
  },
  {
   "cell_type": "code",
   "execution_count": 191,
   "id": "81bd7dcb",
   "metadata": {},
   "outputs": [],
   "source": [
    "# we want to select element 2"
   ]
  },
  {
   "cell_type": "code",
   "execution_count": 192,
   "id": "f72ef305",
   "metadata": {},
   "outputs": [
    {
     "data": {
      "text/plain": [
       "array([2])"
      ]
     },
     "execution_count": 192,
     "metadata": {},
     "output_type": "execute_result"
    }
   ],
   "source": [
    "d[[0],[2]]"
   ]
  },
  {
   "cell_type": "code",
   "execution_count": 194,
   "id": "8d318d99",
   "metadata": {},
   "outputs": [
    {
     "data": {
      "text/plain": [
       "array([ 2, 13])"
      ]
     },
     "execution_count": 194,
     "metadata": {},
     "output_type": "execute_result"
    }
   ],
   "source": [
    "# we want to select element 13 with 2\n",
    "d[[0, 2],[2,3]]\n"
   ]
  },
  {
   "cell_type": "code",
   "execution_count": 198,
   "id": "884195e5",
   "metadata": {},
   "outputs": [
    {
     "data": {
      "text/plain": [
       "array([ 2, 13, 16, 19])"
      ]
     },
     "execution_count": 198,
     "metadata": {},
     "output_type": "execute_result"
    }
   ],
   "source": [
    "# we want to select element  16 and 19 with 13,2 \n",
    "d[[0, 2 ,3,3],[2,3,1,-1]]"
   ]
  },
  {
   "cell_type": "code",
   "execution_count": 200,
   "id": "beca21e1",
   "metadata": {},
   "outputs": [
    {
     "data": {
      "text/plain": [
       "array([ 2, 13, 16, 19])"
      ]
     },
     "execution_count": 200,
     "metadata": {},
     "output_type": "execute_result"
    }
   ],
   "source": [
    "# alternative we want to select element  16 and 19 with 13,2 \n",
    "d[[0, 2 ,3,3],[2,3,1,4]]"
   ]
  },
  {
   "cell_type": "code",
   "execution_count": 201,
   "id": "7bde6551",
   "metadata": {},
   "outputs": [
    {
     "data": {
      "text/plain": [
       "array([[0, 1, 2, 0, 1],\n",
       "       [2, 0, 1, 2, 0],\n",
       "       [1, 2, 0, 1, 2],\n",
       "       [0, 1, 2, 0, 1],\n",
       "       [2, 0, 1, 2, 0]], dtype=int32)"
      ]
     },
     "execution_count": 201,
     "metadata": {},
     "output_type": "execute_result"
    }
   ],
   "source": [
    "d%3"
   ]
  },
  {
   "cell_type": "code",
   "execution_count": 203,
   "id": "5b298bd7",
   "metadata": {},
   "outputs": [
    {
     "data": {
      "text/plain": [
       "1"
      ]
     },
     "execution_count": 203,
     "metadata": {},
     "output_type": "execute_result"
    }
   ],
   "source": [
    "1%3 "
   ]
  },
  {
   "cell_type": "code",
   "execution_count": 204,
   "id": "3b1b7cc1",
   "metadata": {},
   "outputs": [
    {
     "data": {
      "text/plain": [
       "0"
      ]
     },
     "execution_count": 204,
     "metadata": {},
     "output_type": "execute_result"
    }
   ],
   "source": [
    "0%3"
   ]
  },
  {
   "cell_type": "code",
   "execution_count": 205,
   "id": "8b442429",
   "metadata": {},
   "outputs": [
    {
     "data": {
      "text/plain": [
       "1"
      ]
     },
     "execution_count": 205,
     "metadata": {},
     "output_type": "execute_result"
    }
   ],
   "source": [
    "4%3 #mean one number is left "
   ]
  },
  {
   "cell_type": "code",
   "execution_count": 207,
   "id": "c0391454",
   "metadata": {},
   "outputs": [
    {
     "data": {
      "text/plain": [
       "0"
      ]
     },
     "execution_count": 207,
     "metadata": {},
     "output_type": "execute_result"
    }
   ],
   "source": [
    "3%3 # there is no element left  "
   ]
  },
  {
   "cell_type": "code",
   "execution_count": 210,
   "id": "8e84278c",
   "metadata": {},
   "outputs": [
    {
     "data": {
      "text/plain": [
       "2"
      ]
     },
     "execution_count": 210,
     "metadata": {},
     "output_type": "execute_result"
    }
   ],
   "source": [
    "#if we divid 8 by 3 then 2 number is left  8= 6+2 ---> 6/3 +2 --> 0 +2  (6/3 = 0 bcoz there is no element which is left )\n",
    "8 % 3"
   ]
  },
  {
   "cell_type": "code",
   "execution_count": 211,
   "id": "d5e810d6",
   "metadata": {},
   "outputs": [
    {
     "data": {
      "text/plain": [
       "array([[ 0,  1,  2,  3,  4],\n",
       "       [ 5,  6,  7,  8,  9],\n",
       "       [10, 11, 12, 13, 14],\n",
       "       [15, 16, 17, 18, 19],\n",
       "       [20, 21, 22, 23, 24]])"
      ]
     },
     "execution_count": 211,
     "metadata": {},
     "output_type": "execute_result"
    }
   ],
   "source": [
    "d"
   ]
  },
  {
   "cell_type": "code",
   "execution_count": 212,
   "id": "220308bf",
   "metadata": {},
   "outputs": [
    {
     "data": {
      "text/plain": [
       "array([[0, 1, 2, 0, 1],\n",
       "       [2, 0, 1, 2, 0],\n",
       "       [1, 2, 0, 1, 2],\n",
       "       [0, 1, 2, 0, 1],\n",
       "       [2, 0, 1, 2, 0]], dtype=int32)"
      ]
     },
     "execution_count": 212,
     "metadata": {},
     "output_type": "execute_result"
    }
   ],
   "source": [
    "d % 3"
   ]
  },
  {
   "cell_type": "code",
   "execution_count": 213,
   "id": "9515fe60",
   "metadata": {},
   "outputs": [
    {
     "data": {
      "text/plain": [
       "array([[[ 0,  1,  2,  3,  4],\n",
       "        [ 5,  6,  7,  8,  9],\n",
       "        [10, 11, 12, 13, 14],\n",
       "        [ 0,  1,  2,  3,  4],\n",
       "        [ 5,  6,  7,  8,  9]],\n",
       "\n",
       "       [[10, 11, 12, 13, 14],\n",
       "        [ 0,  1,  2,  3,  4],\n",
       "        [ 5,  6,  7,  8,  9],\n",
       "        [10, 11, 12, 13, 14],\n",
       "        [ 0,  1,  2,  3,  4]],\n",
       "\n",
       "       [[ 5,  6,  7,  8,  9],\n",
       "        [10, 11, 12, 13, 14],\n",
       "        [ 0,  1,  2,  3,  4],\n",
       "        [ 5,  6,  7,  8,  9],\n",
       "        [10, 11, 12, 13, 14]],\n",
       "\n",
       "       [[ 0,  1,  2,  3,  4],\n",
       "        [ 5,  6,  7,  8,  9],\n",
       "        [10, 11, 12, 13, 14],\n",
       "        [ 0,  1,  2,  3,  4],\n",
       "        [ 5,  6,  7,  8,  9]],\n",
       "\n",
       "       [[10, 11, 12, 13, 14],\n",
       "        [ 0,  1,  2,  3,  4],\n",
       "        [ 5,  6,  7,  8,  9],\n",
       "        [10, 11, 12, 13, 14],\n",
       "        [ 0,  1,  2,  3,  4]]])"
      ]
     },
     "execution_count": 213,
     "metadata": {},
     "output_type": "execute_result"
    }
   ],
   "source": [
    "d[d%3]"
   ]
  },
  {
   "cell_type": "code",
   "execution_count": 214,
   "id": "378aaf90",
   "metadata": {},
   "outputs": [
    {
     "data": {
      "text/plain": [
       "array([[ True, False, False,  True, False],\n",
       "       [False,  True, False, False,  True],\n",
       "       [False, False,  True, False, False],\n",
       "       [ True, False, False,  True, False],\n",
       "       [False,  True, False, False,  True]])"
      ]
     },
     "execution_count": 214,
     "metadata": {},
     "output_type": "execute_result"
    }
   ],
   "source": [
    "d % 3 ==0"
   ]
  },
  {
   "cell_type": "code",
   "execution_count": 216,
   "id": "5a481318",
   "metadata": {},
   "outputs": [
    {
     "data": {
      "text/plain": [
       "array([ 0,  3,  6,  9, 12, 15, 18, 21, 24])"
      ]
     },
     "execution_count": 216,
     "metadata": {},
     "output_type": "execute_result"
    }
   ],
   "source": [
    "d[d % 3 ==0]"
   ]
  },
  {
   "cell_type": "code",
   "execution_count": 218,
   "id": "ce955429",
   "metadata": {},
   "outputs": [
    {
     "data": {
      "text/plain": [
       "nan"
      ]
     },
     "execution_count": 218,
     "metadata": {},
     "output_type": "execute_result"
    }
   ],
   "source": [
    "np.nan"
   ]
  },
  {
   "cell_type": "code",
   "execution_count": 219,
   "id": "00924663",
   "metadata": {},
   "outputs": [
    {
     "data": {
      "text/plain": [
       "nan"
      ]
     },
     "execution_count": 219,
     "metadata": {},
     "output_type": "execute_result"
    }
   ],
   "source": [
    "np.nan+1"
   ]
  },
  {
   "cell_type": "code",
   "execution_count": 224,
   "id": "be9b2be7",
   "metadata": {},
   "outputs": [],
   "source": [
    "a=np.ones((5,6))"
   ]
  },
  {
   "cell_type": "code",
   "execution_count": 225,
   "id": "6bc3f163",
   "metadata": {},
   "outputs": [
    {
     "data": {
      "text/plain": [
       "array([[1., 1., 1., 1., 1., 1.],\n",
       "       [1., 1., 1., 1., 1., 1.],\n",
       "       [1., 1., 1., 1., 1., 1.],\n",
       "       [1., 1., 1., 1., 1., 1.],\n",
       "       [1., 1., 1., 1., 1., 1.]])"
      ]
     },
     "execution_count": 225,
     "metadata": {},
     "output_type": "execute_result"
    }
   ],
   "source": [
    "a"
   ]
  },
  {
   "cell_type": "code",
   "execution_count": 228,
   "id": "271f4539",
   "metadata": {},
   "outputs": [
    {
     "data": {
      "text/plain": [
       "array([6., 6., 6., 6., 6.])"
      ]
     },
     "execution_count": 228,
     "metadata": {},
     "output_type": "execute_result"
    }
   ],
   "source": [
    "a.sum(axis=1)"
   ]
  },
  {
   "cell_type": "code",
   "execution_count": 229,
   "id": "d5760170",
   "metadata": {},
   "outputs": [
    {
     "data": {
      "text/plain": [
       "(5, 6)"
      ]
     },
     "execution_count": 229,
     "metadata": {},
     "output_type": "execute_result"
    }
   ],
   "source": [
    "a.shape"
   ]
  },
  {
   "cell_type": "code",
   "execution_count": 231,
   "id": "f7353b37",
   "metadata": {},
   "outputs": [
    {
     "data": {
      "text/plain": [
       "(5,)"
      ]
     },
     "execution_count": 231,
     "metadata": {},
     "output_type": "execute_result"
    }
   ],
   "source": [
    "a.sum(axis=1).shape"
   ]
  },
  {
   "cell_type": "code",
   "execution_count": 233,
   "id": "2bde035d",
   "metadata": {},
   "outputs": [
    {
     "data": {
      "text/plain": [
       "(6,)"
      ]
     },
     "execution_count": 233,
     "metadata": {},
     "output_type": "execute_result"
    }
   ],
   "source": [
    "a.sum(axis=0).shape"
   ]
  },
  {
   "cell_type": "markdown",
   "id": "68e4234e",
   "metadata": {},
   "source": [
    "### array calculation method "
   ]
  },
  {
   "cell_type": "code",
   "execution_count": 234,
   "id": "9aec0772",
   "metadata": {},
   "outputs": [],
   "source": [
    "a=np.array([[1,2,3,4,5,6],[5,6,7,8,9,0]])"
   ]
  },
  {
   "cell_type": "code",
   "execution_count": 235,
   "id": "4759b8a2",
   "metadata": {},
   "outputs": [
    {
     "data": {
      "text/plain": [
       "array([[1, 2, 3, 4, 5, 6],\n",
       "       [5, 6, 7, 8, 9, 0]])"
      ]
     },
     "execution_count": 235,
     "metadata": {},
     "output_type": "execute_result"
    }
   ],
   "source": [
    "a"
   ]
  },
  {
   "cell_type": "code",
   "execution_count": 236,
   "id": "dbbf4705",
   "metadata": {},
   "outputs": [
    {
     "data": {
      "text/plain": [
       "56"
      ]
     },
     "execution_count": 236,
     "metadata": {},
     "output_type": "execute_result"
    }
   ],
   "source": [
    "np.sum(a)"
   ]
  },
  {
   "cell_type": "code",
   "execution_count": 237,
   "id": "d5b64a1a",
   "metadata": {},
   "outputs": [
    {
     "data": {
      "text/plain": [
       "array([ 6,  8, 10, 12, 14,  6])"
      ]
     },
     "execution_count": 237,
     "metadata": {},
     "output_type": "execute_result"
    }
   ],
   "source": [
    "a.sum(axis=0)"
   ]
  },
  {
   "cell_type": "code",
   "execution_count": 241,
   "id": "1b1147b8",
   "metadata": {},
   "outputs": [
    {
     "data": {
      "text/plain": [
       "array([ 6,  8, 10, 12, 14,  6])"
      ]
     },
     "execution_count": 241,
     "metadata": {},
     "output_type": "execute_result"
    }
   ],
   "source": [
    "np.sum(a , axis=0)"
   ]
  },
  {
   "cell_type": "code",
   "execution_count": 243,
   "id": "7849f64a",
   "metadata": {},
   "outputs": [
    {
     "data": {
      "text/plain": [
       "0"
      ]
     },
     "execution_count": 243,
     "metadata": {},
     "output_type": "execute_result"
    }
   ],
   "source": [
    "np.min(a)"
   ]
  },
  {
   "cell_type": "code",
   "execution_count": 248,
   "id": "35cf8d02",
   "metadata": {},
   "outputs": [
    {
     "data": {
      "text/plain": [
       "array([6, 9])"
      ]
     },
     "execution_count": 248,
     "metadata": {},
     "output_type": "execute_result"
    }
   ],
   "source": [
    "np.max(a , axis=1)"
   ]
  },
  {
   "cell_type": "code",
   "execution_count": 246,
   "id": "508cd212",
   "metadata": {},
   "outputs": [
    {
     "data": {
      "text/plain": [
       "9"
      ]
     },
     "execution_count": 246,
     "metadata": {},
     "output_type": "execute_result"
    }
   ],
   "source": [
    "np.ptp(a)"
   ]
  },
  {
   "cell_type": "code",
   "execution_count": 249,
   "id": "a07fe948",
   "metadata": {},
   "outputs": [
    {
     "data": {
      "text/plain": [
       "10"
      ]
     },
     "execution_count": 249,
     "metadata": {},
     "output_type": "execute_result"
    }
   ],
   "source": [
    "a.argmax() #interested in the location of a min/max, not the value  "
   ]
  },
  {
   "cell_type": "code",
   "execution_count": 251,
   "id": "672fef6b",
   "metadata": {},
   "outputs": [
    {
     "data": {
      "text/plain": [
       "11"
      ]
     },
     "execution_count": 251,
     "metadata": {},
     "output_type": "execute_result"
    }
   ],
   "source": [
    "a.argmin()"
   ]
  },
  {
   "cell_type": "code",
   "execution_count": 252,
   "id": "1a00fac3",
   "metadata": {},
   "outputs": [
    {
     "data": {
      "text/plain": [
       "(1, 4)"
      ]
     },
     "execution_count": 252,
     "metadata": {},
     "output_type": "execute_result"
    }
   ],
   "source": [
    " np.unravel_index(a.argmax(), a.shape) #give the location of the max value as will as coordite "
   ]
  },
  {
   "cell_type": "code",
   "execution_count": 255,
   "id": "f2f359ce",
   "metadata": {},
   "outputs": [],
   "source": [
    "a=np.array([-1,2,-3,0])"
   ]
  },
  {
   "cell_type": "code",
   "execution_count": 260,
   "id": "56968aef",
   "metadata": {},
   "outputs": [],
   "source": [
    "a=np.array([-1,2,5,5])"
   ]
  },
  {
   "cell_type": "code",
   "execution_count": 261,
   "id": "207becbf",
   "metadata": {},
   "outputs": [
    {
     "data": {
      "text/plain": [
       "array([False, False,  True,  True])"
      ]
     },
     "execution_count": 261,
     "metadata": {},
     "output_type": "execute_result"
    }
   ],
   "source": [
    "a== a.max()"
   ]
  },
  {
   "cell_type": "code",
   "execution_count": 262,
   "id": "95c79685",
   "metadata": {},
   "outputs": [
    {
     "data": {
      "text/plain": [
       "(array([2, 3], dtype=int64),)"
      ]
     },
     "execution_count": 262,
     "metadata": {},
     "output_type": "execute_result"
    }
   ],
   "source": [
    "np.where(a== a.max())"
   ]
  },
  {
   "cell_type": "code",
   "execution_count": 267,
   "id": "29e88bb2",
   "metadata": {},
   "outputs": [
    {
     "data": {
      "text/plain": [
       "(array([1, 2, 3], dtype=int64),)"
      ]
     },
     "execution_count": 267,
     "metadata": {},
     "output_type": "execute_result"
    }
   ],
   "source": [
    "np.where(a >0)"
   ]
  },
  {
   "cell_type": "code",
   "execution_count": 268,
   "id": "24cd926a",
   "metadata": {},
   "outputs": [],
   "source": [
    "a= np.arange(6)"
   ]
  },
  {
   "cell_type": "code",
   "execution_count": 269,
   "id": "feddcbaa",
   "metadata": {},
   "outputs": [
    {
     "data": {
      "text/plain": [
       "array([0, 1, 2, 3, 4, 5])"
      ]
     },
     "execution_count": 269,
     "metadata": {},
     "output_type": "execute_result"
    }
   ],
   "source": [
    "a"
   ]
  },
  {
   "cell_type": "code",
   "execution_count": 270,
   "id": "a925b8fc",
   "metadata": {},
   "outputs": [],
   "source": [
    "a=np.array([[1,2,3,4],[3,5,6,7]])"
   ]
  },
  {
   "cell_type": "code",
   "execution_count": 271,
   "id": "3fce045f",
   "metadata": {},
   "outputs": [
    {
     "data": {
      "text/plain": [
       "array([[1, 2, 3, 4],\n",
       "       [3, 5, 6, 7]])"
      ]
     },
     "execution_count": 271,
     "metadata": {},
     "output_type": "execute_result"
    }
   ],
   "source": [
    "a"
   ]
  },
  {
   "cell_type": "code",
   "execution_count": 278,
   "id": "0f1a9113",
   "metadata": {},
   "outputs": [
    {
     "data": {
      "text/plain": [
       "(4, 2)"
      ]
     },
     "execution_count": 278,
     "metadata": {},
     "output_type": "execute_result"
    }
   ],
   "source": [
    "a.T.shape # traspose swape the order of axes "
   ]
  },
  {
   "cell_type": "code",
   "execution_count": 279,
   "id": "51bfd878",
   "metadata": {},
   "outputs": [
    {
     "data": {
      "text/plain": [
       "array([[1, 3],\n",
       "       [2, 5],\n",
       "       [3, 6],\n",
       "       [4, 7]])"
      ]
     },
     "execution_count": 279,
     "metadata": {},
     "output_type": "execute_result"
    }
   ],
   "source": [
    "a.T"
   ]
  },
  {
   "cell_type": "code",
   "execution_count": 280,
   "id": "3db2bab1",
   "metadata": {},
   "outputs": [
    {
     "data": {
      "text/plain": [
       "(2, 4)"
      ]
     },
     "execution_count": 280,
     "metadata": {},
     "output_type": "execute_result"
    }
   ],
   "source": [
    "a.T.T.shape"
   ]
  },
  {
   "cell_type": "code",
   "execution_count": 282,
   "id": "7c32bb95",
   "metadata": {},
   "outputs": [
    {
     "data": {
      "text/plain": [
       "(4, 16)"
      ]
     },
     "execution_count": 282,
     "metadata": {},
     "output_type": "execute_result"
    }
   ],
   "source": [
    "a.T.strides"
   ]
  },
  {
   "cell_type": "code",
   "execution_count": 283,
   "id": "eafc05fd",
   "metadata": {},
   "outputs": [
    {
     "data": {
      "text/plain": [
       "<function ndarray.reshape>"
      ]
     },
     "execution_count": 283,
     "metadata": {},
     "output_type": "execute_result"
    }
   ],
   "source": [
    "a.reshape"
   ]
  },
  {
   "cell_type": "code",
   "execution_count": null,
   "id": "38621fd7",
   "metadata": {},
   "outputs": [],
   "source": []
  }
 ],
 "metadata": {
  "kernelspec": {
   "display_name": "Python 3 (ipykernel)",
   "language": "python",
   "name": "python3"
  },
  "language_info": {
   "codemirror_mode": {
    "name": "ipython",
    "version": 3
   },
   "file_extension": ".py",
   "mimetype": "text/x-python",
   "name": "python",
   "nbconvert_exporter": "python",
   "pygments_lexer": "ipython3",
   "version": "3.9.12"
  }
 },
 "nbformat": 4,
 "nbformat_minor": 5
}
